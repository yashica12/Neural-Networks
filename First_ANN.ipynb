{
  "nbformat": 4,
  "nbformat_minor": 0,
  "metadata": {
    "colab": {
      "name": "First ANN ",
      "version": "0.3.2",
      "provenance": [],
      "collapsed_sections": [],
      "include_colab_link": true
    },
    "kernelspec": {
      "name": "python3",
      "display_name": "Python 3"
    },
    "accelerator": "GPU"
  },
  "cells": [
    {
      "cell_type": "markdown",
      "metadata": {
        "id": "view-in-github",
        "colab_type": "text"
      },
      "source": [
        "<a href=\"https://colab.research.google.com/github/yashica12/Neural-Networks/blob/master/First_ANN.ipynb\" target=\"_parent\"><img src=\"https://colab.research.google.com/assets/colab-badge.svg\" alt=\"Open In Colab\"/></a>"
      ]
    },
    {
      "metadata": {
        "id": "zpnC_2E2Rm94",
        "colab_type": "code",
        "colab": {}
      },
      "cell_type": "code",
      "source": [
        "!pip install -q keras\n"
      ],
      "execution_count": 0,
      "outputs": []
    },
    {
      "metadata": {
        "id": "e3yOK3Q1Rnbl",
        "colab_type": "code",
        "colab": {}
      },
      "cell_type": "code",
      "source": [
        "!pip install -q theano"
      ],
      "execution_count": 0,
      "outputs": []
    },
    {
      "metadata": {
        "id": "7cO7AU_mR02V",
        "colab_type": "code",
        "outputId": "85e40de4-762b-402b-d942-7cfa16febd16",
        "colab": {
          "base_uri": "https://localhost:8080/",
          "height": 122
        }
      },
      "cell_type": "code",
      "source": [
        "from google.colab import drive\n",
        "drive.mount('/content/drive/')"
      ],
      "execution_count": 0,
      "outputs": [
        {
          "output_type": "stream",
          "text": [
            "Go to this URL in a browser: https://accounts.google.com/o/oauth2/auth?client_id=947318989803-6bn6qk8qdgf4n4g3pfee6491hc0brc4i.apps.googleusercontent.com&redirect_uri=urn%3Aietf%3Awg%3Aoauth%3A2.0%3Aoob&scope=email%20https%3A%2F%2Fwww.googleapis.com%2Fauth%2Fdocs.test%20https%3A%2F%2Fwww.googleapis.com%2Fauth%2Fdrive%20https%3A%2F%2Fwww.googleapis.com%2Fauth%2Fdrive.photos.readonly%20https%3A%2F%2Fwww.googleapis.com%2Fauth%2Fpeopleapi.readonly&response_type=code\n",
            "\n",
            "Enter your authorization code:\n",
            "··········\n",
            "Mounted at /content/drive/\n"
          ],
          "name": "stdout"
        }
      ]
    },
    {
      "metadata": {
        "id": "hOusWLbJTjw2",
        "colab_type": "text"
      },
      "cell_type": "markdown",
      "source": [
        "Data Preprocessing"
      ]
    },
    {
      "metadata": {
        "id": "WuUvpqvZTpQ7",
        "colab_type": "code",
        "colab": {}
      },
      "cell_type": "code",
      "source": [
        "\n",
        "import numpy as np\n",
        "import matplotlib.pyplot as plt\n",
        "import pandas as pd\n",
        "\n",
        "# Importing the datase\n",
        "dataset = pd.read_csv('/content/drive/My Drive/Colab Notebooks/Churn_Modelling.csv')\n"
      ],
      "execution_count": 0,
      "outputs": []
    },
    {
      "metadata": {
        "id": "N6tJ-njgUpno",
        "colab_type": "code",
        "outputId": "5e84802a-36cb-4368-e908-a63824edb3ef",
        "colab": {
          "base_uri": "https://localhost:8080/",
          "height": 204
        }
      },
      "cell_type": "code",
      "source": [
        "dataset.head()"
      ],
      "execution_count": 0,
      "outputs": [
        {
          "output_type": "execute_result",
          "data": {
            "text/html": [
              "<div>\n",
              "<style scoped>\n",
              "    .dataframe tbody tr th:only-of-type {\n",
              "        vertical-align: middle;\n",
              "    }\n",
              "\n",
              "    .dataframe tbody tr th {\n",
              "        vertical-align: top;\n",
              "    }\n",
              "\n",
              "    .dataframe thead th {\n",
              "        text-align: right;\n",
              "    }\n",
              "</style>\n",
              "<table border=\"1\" class=\"dataframe\">\n",
              "  <thead>\n",
              "    <tr style=\"text-align: right;\">\n",
              "      <th></th>\n",
              "      <th>RowNumber</th>\n",
              "      <th>CustomerId</th>\n",
              "      <th>Surname</th>\n",
              "      <th>CreditScore</th>\n",
              "      <th>Geography</th>\n",
              "      <th>Gender</th>\n",
              "      <th>Age</th>\n",
              "      <th>Tenure</th>\n",
              "      <th>Balance</th>\n",
              "      <th>NumOfProducts</th>\n",
              "      <th>HasCrCard</th>\n",
              "      <th>IsActiveMember</th>\n",
              "      <th>EstimatedSalary</th>\n",
              "      <th>Exited</th>\n",
              "    </tr>\n",
              "  </thead>\n",
              "  <tbody>\n",
              "    <tr>\n",
              "      <th>0</th>\n",
              "      <td>1</td>\n",
              "      <td>15634602</td>\n",
              "      <td>Hargrave</td>\n",
              "      <td>619</td>\n",
              "      <td>France</td>\n",
              "      <td>Female</td>\n",
              "      <td>42</td>\n",
              "      <td>2</td>\n",
              "      <td>0.00</td>\n",
              "      <td>1</td>\n",
              "      <td>1</td>\n",
              "      <td>1</td>\n",
              "      <td>101348.88</td>\n",
              "      <td>1</td>\n",
              "    </tr>\n",
              "    <tr>\n",
              "      <th>1</th>\n",
              "      <td>2</td>\n",
              "      <td>15647311</td>\n",
              "      <td>Hill</td>\n",
              "      <td>608</td>\n",
              "      <td>Spain</td>\n",
              "      <td>Female</td>\n",
              "      <td>41</td>\n",
              "      <td>1</td>\n",
              "      <td>83807.86</td>\n",
              "      <td>1</td>\n",
              "      <td>0</td>\n",
              "      <td>1</td>\n",
              "      <td>112542.58</td>\n",
              "      <td>0</td>\n",
              "    </tr>\n",
              "    <tr>\n",
              "      <th>2</th>\n",
              "      <td>3</td>\n",
              "      <td>15619304</td>\n",
              "      <td>Onio</td>\n",
              "      <td>502</td>\n",
              "      <td>France</td>\n",
              "      <td>Female</td>\n",
              "      <td>42</td>\n",
              "      <td>8</td>\n",
              "      <td>159660.80</td>\n",
              "      <td>3</td>\n",
              "      <td>1</td>\n",
              "      <td>0</td>\n",
              "      <td>113931.57</td>\n",
              "      <td>1</td>\n",
              "    </tr>\n",
              "    <tr>\n",
              "      <th>3</th>\n",
              "      <td>4</td>\n",
              "      <td>15701354</td>\n",
              "      <td>Boni</td>\n",
              "      <td>699</td>\n",
              "      <td>France</td>\n",
              "      <td>Female</td>\n",
              "      <td>39</td>\n",
              "      <td>1</td>\n",
              "      <td>0.00</td>\n",
              "      <td>2</td>\n",
              "      <td>0</td>\n",
              "      <td>0</td>\n",
              "      <td>93826.63</td>\n",
              "      <td>0</td>\n",
              "    </tr>\n",
              "    <tr>\n",
              "      <th>4</th>\n",
              "      <td>5</td>\n",
              "      <td>15737888</td>\n",
              "      <td>Mitchell</td>\n",
              "      <td>850</td>\n",
              "      <td>Spain</td>\n",
              "      <td>Female</td>\n",
              "      <td>43</td>\n",
              "      <td>2</td>\n",
              "      <td>125510.82</td>\n",
              "      <td>1</td>\n",
              "      <td>1</td>\n",
              "      <td>1</td>\n",
              "      <td>79084.10</td>\n",
              "      <td>0</td>\n",
              "    </tr>\n",
              "  </tbody>\n",
              "</table>\n",
              "</div>"
            ],
            "text/plain": [
              "   RowNumber  CustomerId   Surname  CreditScore Geography  Gender  Age  \\\n",
              "0          1    15634602  Hargrave          619    France  Female   42   \n",
              "1          2    15647311      Hill          608     Spain  Female   41   \n",
              "2          3    15619304      Onio          502    France  Female   42   \n",
              "3          4    15701354      Boni          699    France  Female   39   \n",
              "4          5    15737888  Mitchell          850     Spain  Female   43   \n",
              "\n",
              "   Tenure    Balance  NumOfProducts  HasCrCard  IsActiveMember  \\\n",
              "0       2       0.00              1          1               1   \n",
              "1       1   83807.86              1          0               1   \n",
              "2       8  159660.80              3          1               0   \n",
              "3       1       0.00              2          0               0   \n",
              "4       2  125510.82              1          1               1   \n",
              "\n",
              "   EstimatedSalary  Exited  \n",
              "0        101348.88       1  \n",
              "1        112542.58       0  \n",
              "2        113931.57       1  \n",
              "3         93826.63       0  \n",
              "4         79084.10       0  "
            ]
          },
          "metadata": {
            "tags": []
          },
          "execution_count": 6
        }
      ]
    },
    {
      "metadata": {
        "id": "0IqvDt2aUtOE",
        "colab_type": "code",
        "colab": {}
      },
      "cell_type": "code",
      "source": [
        "X = dataset.iloc[:, 3:13].values\n",
        "y = dataset.iloc[:, 13].values\n",
        "\n"
      ],
      "execution_count": 0,
      "outputs": []
    },
    {
      "metadata": {
        "id": "HybimQsebsVu",
        "colab_type": "text"
      },
      "cell_type": "markdown",
      "source": [
        "Encoding the variables - Country and Gender \n"
      ]
    },
    {
      "metadata": {
        "id": "67CPpV6-VtcK",
        "colab_type": "code",
        "colab": {}
      },
      "cell_type": "code",
      "source": [
        "from sklearn.preprocessing import LabelEncoder, OneHotEncoder\n",
        "labelencoder_X_1 = LabelEncoder()\n",
        "X[:, 1] = labelencoder_X_1.fit_transform(X[:, 1])\n",
        "labelencoder_X_2 = LabelEncoder()\n",
        "X[:, 2] = labelencoder_X_1.fit_transform(X[:, 2])\n",
        "\n",
        "onehotencoder = OneHotEncoder(categorical_features = [1])\n",
        "X = onehotencoder.fit_transform(X).toarray()"
      ],
      "execution_count": 0,
      "outputs": []
    },
    {
      "metadata": {
        "id": "zpzyRxQ-WgSD",
        "colab_type": "code",
        "outputId": "e70661d2-e74c-4cc0-9e8e-879002ee0b37",
        "colab": {
          "base_uri": "https://localhost:8080/",
          "height": 238
        }
      },
      "cell_type": "code",
      "source": [
        "X"
      ],
      "execution_count": 0,
      "outputs": [
        {
          "output_type": "execute_result",
          "data": {
            "text/plain": [
              "array([[1.0000000e+00, 0.0000000e+00, 0.0000000e+00, ..., 1.0000000e+00,\n",
              "        1.0000000e+00, 1.0134888e+05],\n",
              "       [0.0000000e+00, 0.0000000e+00, 1.0000000e+00, ..., 0.0000000e+00,\n",
              "        1.0000000e+00, 1.1254258e+05],\n",
              "       [1.0000000e+00, 0.0000000e+00, 0.0000000e+00, ..., 1.0000000e+00,\n",
              "        0.0000000e+00, 1.1393157e+05],\n",
              "       ...,\n",
              "       [1.0000000e+00, 0.0000000e+00, 0.0000000e+00, ..., 0.0000000e+00,\n",
              "        1.0000000e+00, 4.2085580e+04],\n",
              "       [0.0000000e+00, 1.0000000e+00, 0.0000000e+00, ..., 1.0000000e+00,\n",
              "        0.0000000e+00, 9.2888520e+04],\n",
              "       [1.0000000e+00, 0.0000000e+00, 0.0000000e+00, ..., 1.0000000e+00,\n",
              "        0.0000000e+00, 3.8190780e+04]])"
            ]
          },
          "metadata": {
            "tags": []
          },
          "execution_count": 17
        }
      ]
    },
    {
      "metadata": {
        "id": "uuSTCBFaW65P",
        "colab_type": "code",
        "colab": {}
      },
      "cell_type": "code",
      "source": [
        "X=X[:,1:]"
      ],
      "execution_count": 0,
      "outputs": []
    },
    {
      "metadata": {
        "id": "8axdZJWWb0G-",
        "colab_type": "text"
      },
      "cell_type": "markdown",
      "source": [
        "Preparing Training and Test dataset \n"
      ]
    },
    {
      "metadata": {
        "id": "JO_6QU2sXWga",
        "colab_type": "code",
        "colab": {}
      },
      "cell_type": "code",
      "source": [
        "from sklearn.model_selection import train_test_split\n",
        "X_train, X_test, y_train, y_test = train_test_split(X, y, test_size = 0.2, random_state = 0)\n"
      ],
      "execution_count": 0,
      "outputs": []
    },
    {
      "metadata": {
        "id": "KAB0Ln0zXpy2",
        "colab_type": "code",
        "colab": {}
      },
      "cell_type": "code",
      "source": [
        "from sklearn.preprocessing import StandardScaler\n",
        "sc = StandardScaler()\n",
        "X_train = sc.fit_transform(X_train)\n",
        "X_test = sc.transform(X_test)"
      ],
      "execution_count": 0,
      "outputs": []
    },
    {
      "metadata": {
        "id": "MyG_0yHMYC9c",
        "colab_type": "code",
        "outputId": "3a02f1d7-9522-46e7-b445-c6a3e0a49a27",
        "colab": {
          "base_uri": "https://localhost:8080/",
          "height": 527
        }
      },
      "cell_type": "code",
      "source": [
        ""
      ],
      "execution_count": 0,
      "outputs": [
        {
          "output_type": "execute_result",
          "data": {
            "text/plain": [
              "array([[-0.5698444 ,  1.74309049,  0.16958176, -1.09168714, -0.46460796,\n",
              "         0.00666099, -1.21571749,  0.8095029 ,  0.64259497, -1.03227043,\n",
              "         1.10643166],\n",
              "       [ 1.75486502, -0.57369368, -2.30455945,  0.91601335,  0.30102557,\n",
              "        -1.37744033, -0.00631193, -0.92159124,  0.64259497,  0.9687384 ,\n",
              "        -0.74866447],\n",
              "       [-0.5698444 , -0.57369368, -1.19119591, -1.09168714, -0.94312892,\n",
              "        -1.031415  ,  0.57993469, -0.92159124,  0.64259497, -1.03227043,\n",
              "         1.48533467],\n",
              "       [-0.5698444 ,  1.74309049,  0.03556578,  0.91601335,  0.10961719,\n",
              "         0.00666099,  0.47312769, -0.92159124,  0.64259497, -1.03227043,\n",
              "         1.27652776],\n",
              "       [-0.5698444 ,  1.74309049,  2.05611444, -1.09168714,  1.73658844,\n",
              "         1.04473698,  0.8101927 ,  0.8095029 ,  0.64259497,  0.9687384 ,\n",
              "         0.55837842],\n",
              "       [ 1.75486502, -0.57369368,  1.29325423, -1.09168714, -0.17749539,\n",
              "        -1.031415  ,  0.44253504,  0.8095029 ,  0.64259497, -1.03227043,\n",
              "         1.63252134],\n",
              "       [-0.5698444 , -0.57369368,  1.6128308 ,  0.91601335,  0.77954653,\n",
              "        -1.37744033,  0.30432823, -0.92159124, -1.55619021, -1.03227043,\n",
              "         0.48149647],\n",
              "       [-0.5698444 ,  1.74309049, -0.54173384,  0.91601335,  0.20532138,\n",
              "         1.04473698, -1.21571749,  0.8095029 ,  0.64259497,  0.9687384 ,\n",
              "         1.07382167],\n",
              "       [-0.5698444 ,  1.74309049, -0.14999481,  0.91601335,  3.55496808,\n",
              "         1.39076231,  0.80633029, -0.92159124,  0.64259497,  0.9687384 ,\n",
              "        -1.04949755],\n",
              "       [-0.5698444 , -0.57369368, -0.29431972, -1.09168714, -0.65601634,\n",
              "         0.35268632,  1.48636403,  0.8095029 ,  0.64259497, -1.03227043,\n",
              "         0.01539358]])"
            ]
          },
          "metadata": {
            "tags": []
          },
          "execution_count": 23
        }
      ]
    },
    {
      "metadata": {
        "id": "emuvHkCzYFFe",
        "colab_type": "code",
        "outputId": "49e6f0b5-ec8c-4300-a78c-29169e8c4f4e",
        "colab": {
          "base_uri": "https://localhost:8080/",
          "height": 34
        }
      },
      "cell_type": "code",
      "source": [
        "import keras"
      ],
      "execution_count": 0,
      "outputs": [
        {
          "output_type": "stream",
          "text": [
            "Using TensorFlow backend.\n"
          ],
          "name": "stderr"
        }
      ]
    },
    {
      "metadata": {
        "id": "ABtj2QOpaAFJ",
        "colab_type": "code",
        "colab": {}
      },
      "cell_type": "code",
      "source": [
        "from keras.models import Sequential"
      ],
      "execution_count": 0,
      "outputs": []
    },
    {
      "metadata": {
        "id": "-D8LKhY1aESp",
        "colab_type": "code",
        "colab": {}
      },
      "cell_type": "code",
      "source": [
        "from keras.layers import Dense"
      ],
      "execution_count": 0,
      "outputs": []
    },
    {
      "metadata": {
        "id": "uexmiPVMb7y3",
        "colab_type": "text"
      },
      "cell_type": "markdown",
      "source": [
        "Building classifier \n"
      ]
    },
    {
      "metadata": {
        "id": "KsBue4G7aJWa",
        "colab_type": "code",
        "colab": {}
      },
      "cell_type": "code",
      "source": [
        "classifier = Sequential()"
      ],
      "execution_count": 0,
      "outputs": []
    },
    {
      "metadata": {
        "id": "e6mFRSu6bfLi",
        "colab_type": "code",
        "outputId": "ad1206cb-89a1-40d2-be39-03472febb92a",
        "colab": {
          "base_uri": "https://localhost:8080/",
          "height": 71
        }
      },
      "cell_type": "code",
      "source": [
        "classifier.add(Dense(output_dim=6, init='uniform', activation='relu' , input_dim=11))"
      ],
      "execution_count": 0,
      "outputs": [
        {
          "output_type": "stream",
          "text": [
            "/usr/local/lib/python3.6/dist-packages/ipykernel_launcher.py:1: UserWarning: Update your `Dense` call to the Keras 2 API: `Dense(activation=\"relu\", input_dim=11, units=6, kernel_initializer=\"uniform\")`\n",
            "  \"\"\"Entry point for launching an IPython kernel.\n"
          ],
          "name": "stderr"
        }
      ]
    },
    {
      "metadata": {
        "id": "KRVUN8pZd2We",
        "colab_type": "code",
        "outputId": "720d6b8e-9dac-4013-9d20-ba2017c7d75d",
        "colab": {
          "base_uri": "https://localhost:8080/",
          "height": 34
        }
      },
      "cell_type": "code",
      "source": [
        "classifier"
      ],
      "execution_count": 0,
      "outputs": [
        {
          "output_type": "execute_result",
          "data": {
            "text/plain": [
              "<keras.engine.sequential.Sequential at 0x7f10fd7d78d0>"
            ]
          },
          "metadata": {
            "tags": []
          },
          "execution_count": 29
        }
      ]
    },
    {
      "metadata": {
        "id": "KNVSRkfmeYj6",
        "colab_type": "code",
        "outputId": "91702948-b873-4d48-c7f0-ae69929635ac",
        "colab": {
          "base_uri": "https://localhost:8080/",
          "height": 71
        }
      },
      "cell_type": "code",
      "source": [
        "classifier.add(Dense(units=6, init='uniform', activation='relu' ))"
      ],
      "execution_count": 0,
      "outputs": [
        {
          "output_type": "stream",
          "text": [
            "/usr/local/lib/python3.6/dist-packages/ipykernel_launcher.py:1: UserWarning: Update your `Dense` call to the Keras 2 API: `Dense(units=6, activation=\"relu\", kernel_initializer=\"uniform\")`\n",
            "  \"\"\"Entry point for launching an IPython kernel.\n"
          ],
          "name": "stderr"
        }
      ]
    },
    {
      "metadata": {
        "id": "vd9RyD4cezXI",
        "colab_type": "code",
        "outputId": "76ec4427-fd78-4531-d351-6919af95796e",
        "colab": {
          "base_uri": "https://localhost:8080/",
          "height": 71
        }
      },
      "cell_type": "code",
      "source": [
        "classifier.add(Dense(output_dim=1, init='uniform', activation='sigmoid'))"
      ],
      "execution_count": 0,
      "outputs": [
        {
          "output_type": "stream",
          "text": [
            "/usr/local/lib/python3.6/dist-packages/ipykernel_launcher.py:1: UserWarning: Update your `Dense` call to the Keras 2 API: `Dense(activation=\"sigmoid\", units=1, kernel_initializer=\"uniform\")`\n",
            "  \"\"\"Entry point for launching an IPython kernel.\n"
          ],
          "name": "stderr"
        }
      ]
    },
    {
      "metadata": {
        "id": "4P-NNqTbfW32",
        "colab_type": "code",
        "colab": {}
      },
      "cell_type": "code",
      "source": [
        "classifier.compile(optimizer = 'adam' , loss = 'binary_crossentropy' , metrics = ['accuracy'])"
      ],
      "execution_count": 0,
      "outputs": []
    },
    {
      "metadata": {
        "id": "ZVsiXWOIgz3n",
        "colab_type": "code",
        "outputId": "cb1e12f8-37b7-4e26-e5be-cdcea47d11fa",
        "colab": {
          "base_uri": "https://localhost:8080/",
          "height": 3468
        }
      },
      "cell_type": "code",
      "source": [
        "classifier.fit(X_train,y_train,batch_size=10,nb_epoch=100)"
      ],
      "execution_count": 0,
      "outputs": [
        {
          "output_type": "stream",
          "text": [
            "/usr/local/lib/python3.6/dist-packages/ipykernel_launcher.py:1: UserWarning: The `nb_epoch` argument in `fit` has been renamed `epochs`.\n",
            "  \"\"\"Entry point for launching an IPython kernel.\n"
          ],
          "name": "stderr"
        },
        {
          "output_type": "stream",
          "text": [
            "Epoch 1/100\n",
            "8000/8000 [==============================] - 5s 684us/step - loss: 0.4939 - acc: 0.7960\n",
            "Epoch 2/100\n",
            "8000/8000 [==============================] - 5s 579us/step - loss: 0.4296 - acc: 0.7960\n",
            "Epoch 3/100\n",
            "8000/8000 [==============================] - 5s 586us/step - loss: 0.4245 - acc: 0.7960\n",
            "Epoch 4/100\n",
            "8000/8000 [==============================] - 5s 583us/step - loss: 0.4208 - acc: 0.8054\n",
            "Epoch 5/100\n",
            "8000/8000 [==============================] - 5s 582us/step - loss: 0.4178 - acc: 0.8230\n",
            "Epoch 6/100\n",
            "8000/8000 [==============================] - 5s 582us/step - loss: 0.4157 - acc: 0.8264\n",
            "Epoch 7/100\n",
            "8000/8000 [==============================] - 5s 582us/step - loss: 0.4142 - acc: 0.8300\n",
            "Epoch 8/100\n",
            "8000/8000 [==============================] - 5s 581us/step - loss: 0.4126 - acc: 0.8307\n",
            "Epoch 9/100\n",
            "8000/8000 [==============================] - 5s 578us/step - loss: 0.4112 - acc: 0.8322\n",
            "Epoch 10/100\n",
            "8000/8000 [==============================] - 5s 578us/step - loss: 0.4100 - acc: 0.8325\n",
            "Epoch 11/100\n",
            "8000/8000 [==============================] - 5s 583us/step - loss: 0.4093 - acc: 0.8352\n",
            "Epoch 12/100\n",
            "8000/8000 [==============================] - 5s 581us/step - loss: 0.4080 - acc: 0.8341\n",
            "Epoch 13/100\n",
            "8000/8000 [==============================] - 5s 587us/step - loss: 0.4075 - acc: 0.8340\n",
            "Epoch 14/100\n",
            "8000/8000 [==============================] - 5s 577us/step - loss: 0.4068 - acc: 0.8357\n",
            "Epoch 15/100\n",
            "8000/8000 [==============================] - 5s 580us/step - loss: 0.4059 - acc: 0.8356\n",
            "Epoch 16/100\n",
            "8000/8000 [==============================] - 5s 578us/step - loss: 0.4056 - acc: 0.8367\n",
            "Epoch 17/100\n",
            "8000/8000 [==============================] - 5s 580us/step - loss: 0.4050 - acc: 0.8355\n",
            "Epoch 18/100\n",
            "8000/8000 [==============================] - 5s 574us/step - loss: 0.4049 - acc: 0.8359\n",
            "Epoch 19/100\n",
            "8000/8000 [==============================] - 5s 577us/step - loss: 0.4046 - acc: 0.8336\n",
            "Epoch 20/100\n",
            "8000/8000 [==============================] - 5s 582us/step - loss: 0.4040 - acc: 0.8357\n",
            "Epoch 21/100\n",
            "8000/8000 [==============================] - 5s 576us/step - loss: 0.4043 - acc: 0.8345\n",
            "Epoch 22/100\n",
            "8000/8000 [==============================] - 5s 586us/step - loss: 0.4035 - acc: 0.8359\n",
            "Epoch 23/100\n",
            "8000/8000 [==============================] - 5s 578us/step - loss: 0.4035 - acc: 0.8349\n",
            "Epoch 24/100\n",
            "8000/8000 [==============================] - 5s 578us/step - loss: 0.4033 - acc: 0.8354\n",
            "Epoch 25/100\n",
            "8000/8000 [==============================] - 5s 579us/step - loss: 0.4031 - acc: 0.8350\n",
            "Epoch 26/100\n",
            "8000/8000 [==============================] - 5s 580us/step - loss: 0.4025 - acc: 0.8345\n",
            "Epoch 27/100\n",
            "8000/8000 [==============================] - 5s 577us/step - loss: 0.4018 - acc: 0.8360\n",
            "Epoch 28/100\n",
            "8000/8000 [==============================] - 5s 574us/step - loss: 0.4012 - acc: 0.8359\n",
            "Epoch 29/100\n",
            "8000/8000 [==============================] - 5s 580us/step - loss: 0.4006 - acc: 0.8360\n",
            "Epoch 30/100\n",
            "8000/8000 [==============================] - 5s 578us/step - loss: 0.3995 - acc: 0.8356\n",
            "Epoch 31/100\n",
            "8000/8000 [==============================] - 5s 579us/step - loss: 0.3995 - acc: 0.8352\n",
            "Epoch 32/100\n",
            "8000/8000 [==============================] - 5s 575us/step - loss: 0.3985 - acc: 0.8350\n",
            "Epoch 33/100\n",
            "8000/8000 [==============================] - 5s 578us/step - loss: 0.3985 - acc: 0.8341\n",
            "Epoch 34/100\n",
            "8000/8000 [==============================] - 5s 575us/step - loss: 0.3988 - acc: 0.8360\n",
            "Epoch 35/100\n",
            "8000/8000 [==============================] - 5s 579us/step - loss: 0.3978 - acc: 0.8356\n",
            "Epoch 36/100\n",
            "8000/8000 [==============================] - 5s 575us/step - loss: 0.3981 - acc: 0.8354\n",
            "Epoch 37/100\n",
            "8000/8000 [==============================] - 5s 572us/step - loss: 0.3971 - acc: 0.8352\n",
            "Epoch 38/100\n",
            "8000/8000 [==============================] - 5s 578us/step - loss: 0.3972 - acc: 0.8352\n",
            "Epoch 39/100\n",
            "8000/8000 [==============================] - 5s 580us/step - loss: 0.3973 - acc: 0.8345\n",
            "Epoch 40/100\n",
            "8000/8000 [==============================] - 5s 581us/step - loss: 0.3968 - acc: 0.8356\n",
            "Epoch 41/100\n",
            "8000/8000 [==============================] - 5s 579us/step - loss: 0.3963 - acc: 0.8344\n",
            "Epoch 42/100\n",
            "8000/8000 [==============================] - 5s 577us/step - loss: 0.3960 - acc: 0.8340\n",
            "Epoch 43/100\n",
            "8000/8000 [==============================] - 5s 576us/step - loss: 0.3957 - acc: 0.8365\n",
            "Epoch 44/100\n",
            "8000/8000 [==============================] - 5s 578us/step - loss: 0.3963 - acc: 0.8337\n",
            "Epoch 45/100\n",
            "8000/8000 [==============================] - 5s 579us/step - loss: 0.3958 - acc: 0.8379\n",
            "Epoch 46/100\n",
            "8000/8000 [==============================] - 5s 574us/step - loss: 0.3960 - acc: 0.8345\n",
            "Epoch 47/100\n",
            "8000/8000 [==============================] - 5s 579us/step - loss: 0.3951 - acc: 0.8354\n",
            "Epoch 48/100\n",
            "8000/8000 [==============================] - 5s 577us/step - loss: 0.3950 - acc: 0.8337\n",
            "Epoch 49/100\n",
            "8000/8000 [==============================] - 5s 577us/step - loss: 0.3954 - acc: 0.8350\n",
            "Epoch 50/100\n",
            "8000/8000 [==============================] - 5s 578us/step - loss: 0.3955 - acc: 0.8369\n",
            "Epoch 51/100\n",
            "8000/8000 [==============================] - 5s 580us/step - loss: 0.3951 - acc: 0.8365\n",
            "Epoch 52/100\n",
            "8000/8000 [==============================] - 5s 576us/step - loss: 0.3950 - acc: 0.8362\n",
            "Epoch 53/100\n",
            "8000/8000 [==============================] - 5s 580us/step - loss: 0.3952 - acc: 0.8355\n",
            "Epoch 54/100\n",
            "8000/8000 [==============================] - 5s 582us/step - loss: 0.3948 - acc: 0.8356\n",
            "Epoch 55/100\n",
            "8000/8000 [==============================] - 5s 576us/step - loss: 0.3947 - acc: 0.8362\n",
            "Epoch 56/100\n",
            "8000/8000 [==============================] - 5s 572us/step - loss: 0.3941 - acc: 0.8361\n",
            "Epoch 57/100\n",
            "8000/8000 [==============================] - 5s 579us/step - loss: 0.3955 - acc: 0.8344\n",
            "Epoch 58/100\n",
            "8000/8000 [==============================] - 5s 576us/step - loss: 0.3943 - acc: 0.8370\n",
            "Epoch 59/100\n",
            "8000/8000 [==============================] - 5s 576us/step - loss: 0.3947 - acc: 0.8365\n",
            "Epoch 60/100\n",
            "8000/8000 [==============================] - 5s 576us/step - loss: 0.3947 - acc: 0.8355\n",
            "Epoch 61/100\n",
            "8000/8000 [==============================] - 5s 576us/step - loss: 0.3946 - acc: 0.8349\n",
            "Epoch 62/100\n",
            "8000/8000 [==============================] - 5s 575us/step - loss: 0.3944 - acc: 0.8350\n",
            "Epoch 63/100\n",
            "8000/8000 [==============================] - 5s 571us/step - loss: 0.3942 - acc: 0.8361\n",
            "Epoch 64/100\n",
            "8000/8000 [==============================] - 5s 572us/step - loss: 0.3943 - acc: 0.8355\n",
            "Epoch 65/100\n",
            "8000/8000 [==============================] - 5s 572us/step - loss: 0.3947 - acc: 0.8364\n",
            "Epoch 66/100\n",
            "8000/8000 [==============================] - 5s 580us/step - loss: 0.3947 - acc: 0.8339\n",
            "Epoch 67/100\n",
            "8000/8000 [==============================] - 5s 574us/step - loss: 0.3942 - acc: 0.8360\n",
            "Epoch 68/100\n",
            "8000/8000 [==============================] - 5s 574us/step - loss: 0.3940 - acc: 0.8357\n",
            "Epoch 69/100\n",
            "8000/8000 [==============================] - 5s 575us/step - loss: 0.3945 - acc: 0.8356\n",
            "Epoch 70/100\n",
            "8000/8000 [==============================] - 5s 573us/step - loss: 0.3942 - acc: 0.8370\n",
            "Epoch 71/100\n",
            "8000/8000 [==============================] - 5s 579us/step - loss: 0.3933 - acc: 0.8359\n",
            "Epoch 72/100\n",
            "8000/8000 [==============================] - 5s 575us/step - loss: 0.3948 - acc: 0.8359\n",
            "Epoch 73/100\n",
            "8000/8000 [==============================] - 5s 577us/step - loss: 0.3939 - acc: 0.8352\n",
            "Epoch 74/100\n",
            "8000/8000 [==============================] - 5s 581us/step - loss: 0.3941 - acc: 0.8354\n",
            "Epoch 75/100\n",
            "8000/8000 [==============================] - 5s 581us/step - loss: 0.3940 - acc: 0.8356\n",
            "Epoch 76/100\n",
            "8000/8000 [==============================] - 5s 576us/step - loss: 0.3934 - acc: 0.8350\n",
            "Epoch 77/100\n",
            "8000/8000 [==============================] - 5s 578us/step - loss: 0.3936 - acc: 0.8369\n",
            "Epoch 78/100\n",
            "8000/8000 [==============================] - 5s 584us/step - loss: 0.3940 - acc: 0.8350\n",
            "Epoch 79/100\n",
            "8000/8000 [==============================] - 5s 586us/step - loss: 0.3938 - acc: 0.8361\n",
            "Epoch 80/100\n",
            "8000/8000 [==============================] - 5s 587us/step - loss: 0.3939 - acc: 0.8347\n",
            "Epoch 81/100\n",
            "8000/8000 [==============================] - 5s 579us/step - loss: 0.3936 - acc: 0.8362\n",
            "Epoch 82/100\n",
            "8000/8000 [==============================] - 5s 581us/step - loss: 0.3936 - acc: 0.8361\n",
            "Epoch 83/100\n",
            "8000/8000 [==============================] - 5s 581us/step - loss: 0.3936 - acc: 0.8366\n",
            "Epoch 84/100\n",
            "8000/8000 [==============================] - 5s 586us/step - loss: 0.3935 - acc: 0.8351\n",
            "Epoch 85/100\n",
            "8000/8000 [==============================] - 5s 581us/step - loss: 0.3938 - acc: 0.8346\n",
            "Epoch 86/100\n",
            "8000/8000 [==============================] - 5s 581us/step - loss: 0.3934 - acc: 0.8359\n",
            "Epoch 87/100\n",
            "8000/8000 [==============================] - 5s 589us/step - loss: 0.3939 - acc: 0.8365\n",
            "Epoch 88/100\n",
            "8000/8000 [==============================] - 5s 586us/step - loss: 0.3937 - acc: 0.8367\n",
            "Epoch 89/100\n",
            "8000/8000 [==============================] - 5s 573us/step - loss: 0.3935 - acc: 0.8346\n",
            "Epoch 90/100\n",
            "8000/8000 [==============================] - 5s 578us/step - loss: 0.3938 - acc: 0.8359\n",
            "Epoch 91/100\n",
            "8000/8000 [==============================] - 5s 575us/step - loss: 0.3938 - acc: 0.8345\n",
            "Epoch 92/100\n",
            "8000/8000 [==============================] - 5s 578us/step - loss: 0.3933 - acc: 0.8367\n",
            "Epoch 93/100\n",
            "8000/8000 [==============================] - 5s 593us/step - loss: 0.3934 - acc: 0.8361\n",
            "Epoch 94/100\n",
            "8000/8000 [==============================] - 5s 585us/step - loss: 0.3933 - acc: 0.8355\n",
            "Epoch 95/100\n",
            "8000/8000 [==============================] - 5s 583us/step - loss: 0.3936 - acc: 0.8360\n",
            "Epoch 96/100\n",
            "8000/8000 [==============================] - 5s 584us/step - loss: 0.3935 - acc: 0.8346\n",
            "Epoch 97/100\n",
            "8000/8000 [==============================] - 5s 580us/step - loss: 0.3932 - acc: 0.8357\n",
            "Epoch 98/100\n",
            "8000/8000 [==============================] - 5s 570us/step - loss: 0.3931 - acc: 0.8365\n",
            "Epoch 99/100\n",
            "8000/8000 [==============================] - 5s 581us/step - loss: 0.3933 - acc: 0.8361\n",
            "Epoch 100/100\n",
            "8000/8000 [==============================] - 5s 577us/step - loss: 0.3930 - acc: 0.8361\n"
          ],
          "name": "stdout"
        },
        {
          "output_type": "execute_result",
          "data": {
            "text/plain": [
              "<keras.callbacks.History at 0x7f10fcca1710>"
            ]
          },
          "metadata": {
            "tags": []
          },
          "execution_count": 33
        }
      ]
    },
    {
      "metadata": {
        "id": "nv3rovZbhoDV",
        "colab_type": "code",
        "colab": {}
      },
      "cell_type": "code",
      "source": [
        "y_pred = classifier.predict(X_test)"
      ],
      "execution_count": 0,
      "outputs": []
    },
    {
      "metadata": {
        "id": "vWERBzAejhID",
        "colab_type": "code",
        "outputId": "84223379-ef5f-4bd3-bd37-d3d92ff1e0b2",
        "colab": {
          "base_uri": "https://localhost:8080/",
          "height": 136
        }
      },
      "cell_type": "code",
      "source": [
        "y_pred"
      ],
      "execution_count": 0,
      "outputs": [
        {
          "output_type": "execute_result",
          "data": {
            "text/plain": [
              "array([[0.16177587],\n",
              "       [0.32025877],\n",
              "       [0.11923895],\n",
              "       ...,\n",
              "       [0.18270157],\n",
              "       [0.1222826 ],\n",
              "       [0.12263938]], dtype=float32)"
            ]
          },
          "metadata": {
            "tags": []
          },
          "execution_count": 35
        }
      ]
    },
    {
      "metadata": {
        "id": "BoIy1UZpjiWf",
        "colab_type": "code",
        "colab": {}
      },
      "cell_type": "code",
      "source": [
        "y_pred = (y_pred>0.5)"
      ],
      "execution_count": 0,
      "outputs": []
    },
    {
      "metadata": {
        "id": "Cq_EX1ntkFDQ",
        "colab_type": "code",
        "outputId": "fa9de1cd-5d9b-4a9c-ea45-cfaa696252cf",
        "colab": {
          "base_uri": "https://localhost:8080/",
          "height": 136
        }
      },
      "cell_type": "code",
      "source": [
        "y_pred"
      ],
      "execution_count": 0,
      "outputs": [
        {
          "output_type": "execute_result",
          "data": {
            "text/plain": [
              "array([[False],\n",
              "       [False],\n",
              "       [False],\n",
              "       ...,\n",
              "       [False],\n",
              "       [False],\n",
              "       [False]])"
            ]
          },
          "metadata": {
            "tags": []
          },
          "execution_count": 37
        }
      ]
    },
    {
      "metadata": {
        "id": "cGixsjKWkGNY",
        "colab_type": "code",
        "colab": {}
      },
      "cell_type": "code",
      "source": [
        "from sklearn.metrics import confusion_matrix\n",
        "cm = confusion_matrix(y_test, y_pred)"
      ],
      "execution_count": 0,
      "outputs": []
    },
    {
      "metadata": {
        "id": "9XRkR_mDkXIl",
        "colab_type": "code",
        "outputId": "5870b3dd-9fd1-427d-b723-f7ac2173342b",
        "colab": {
          "base_uri": "https://localhost:8080/",
          "height": 51
        }
      },
      "cell_type": "code",
      "source": [
        "cm"
      ],
      "execution_count": 0,
      "outputs": [
        {
          "output_type": "execute_result",
          "data": {
            "text/plain": [
              "array([[1548,   47],\n",
              "       [ 270,  135]])"
            ]
          },
          "metadata": {
            "tags": []
          },
          "execution_count": 39
        }
      ]
    },
    {
      "metadata": {
        "id": "cVXZQht_kaJP",
        "colab_type": "code",
        "colab": {}
      },
      "cell_type": "code",
      "source": [
        "accuracy_test = (1548+135)/2000"
      ],
      "execution_count": 0,
      "outputs": []
    },
    {
      "metadata": {
        "id": "O1ezQyOqkmR-",
        "colab_type": "code",
        "outputId": "e5fa3609-aee9-4913-91f7-6035f2f2b8de",
        "colab": {
          "base_uri": "https://localhost:8080/",
          "height": 34
        }
      },
      "cell_type": "code",
      "source": [
        "accuracy_test"
      ],
      "execution_count": 0,
      "outputs": [
        {
          "output_type": "execute_result",
          "data": {
            "text/plain": [
              "0.8415"
            ]
          },
          "metadata": {
            "tags": []
          },
          "execution_count": 41
        }
      ]
    },
    {
      "metadata": {
        "id": "bY0C8jnXkoGX",
        "colab_type": "code",
        "outputId": "b5f5b9cf-d9be-47f1-a72f-b4abffd3b779",
        "colab": {
          "base_uri": "https://localhost:8080/",
          "height": 71
        }
      },
      "cell_type": "code",
      "source": [
        "new_predict = classifier.predict(sc.transform(np.array([[0,0,600,1,40,3,6000,2,1,1,50000]])))"
      ],
      "execution_count": 0,
      "outputs": [
        {
          "output_type": "stream",
          "text": [
            "/usr/local/lib/python3.6/dist-packages/sklearn/utils/validation.py:475: DataConversionWarning: Data with input dtype int64 was converted to float64 by StandardScaler.\n",
            "  warnings.warn(msg, DataConversionWarning)\n"
          ],
          "name": "stderr"
        }
      ]
    },
    {
      "metadata": {
        "id": "BwtR5jBimr6W",
        "colab_type": "code",
        "outputId": "35a69229-5669-4a74-cbba-ae0b5d44bdd5",
        "colab": {
          "base_uri": "https://localhost:8080/",
          "height": 34
        }
      },
      "cell_type": "code",
      "source": [
        "new_predict"
      ],
      "execution_count": 0,
      "outputs": [
        {
          "output_type": "execute_result",
          "data": {
            "text/plain": [
              "array([[0.05519238]], dtype=float32)"
            ]
          },
          "metadata": {
            "tags": []
          },
          "execution_count": 43
        }
      ]
    },
    {
      "metadata": {
        "id": "epigwIcbmvpP",
        "colab_type": "code",
        "colab": {}
      },
      "cell_type": "code",
      "source": [
        "new_predict = (new_predict>0.5)"
      ],
      "execution_count": 0,
      "outputs": []
    },
    {
      "metadata": {
        "id": "ZwrpIjKBnEns",
        "colab_type": "code",
        "outputId": "9ed5f61d-fdb3-447c-c8f3-df73df878718",
        "colab": {
          "base_uri": "https://localhost:8080/",
          "height": 34
        }
      },
      "cell_type": "code",
      "source": [
        "new_predict"
      ],
      "execution_count": 0,
      "outputs": [
        {
          "output_type": "execute_result",
          "data": {
            "text/plain": [
              "array([[False]])"
            ]
          },
          "metadata": {
            "tags": []
          },
          "execution_count": 45
        }
      ]
    },
    {
      "metadata": {
        "id": "sZSa4oxlnF6g",
        "colab_type": "code",
        "colab": {}
      },
      "cell_type": "code",
      "source": [
        ""
      ],
      "execution_count": 0,
      "outputs": []
    }
  ]
}